{
 "cells": [
  {
   "cell_type": "markdown",
   "metadata": {},
   "source": [
    "## AND、OR和子文档和数组\n",
    "\n",
    "![](https://kingname-1257411235.cos.ap-chengdu.myqcloud.com/2019-03-03-16-52-34.png)\n"
   ]
  },
  {
   "cell_type": "markdown",
   "metadata": {},
   "source": [
    "## 显式AND查询和OR查询\n",
    "\n",
    "### 隐式AND查询与显式AND查询\n",
    "\n",
    "在学习MongoDB基本语法的时候，我们假如我们要查下：\n",
    "\n",
    "> 年龄大于20并且薪资大于9999的所有人\n",
    "\n",
    "那么MongoDB的查询语句写为：\n",
    "\n",
    "```python\n",
    "handler.find({'age': {'$gt': 20}, 'salary': {'$gt': 9999}})\n",
    "```\n",
    "\n",
    "此时，这里的`age`和`salary`两个条件需要同时满足，在逻辑上他们是“与”的关系。但是我并没有把`AND`这个关键字写出来，所以这叫做“隐式AND查询”。\n",
    "\n",
    "而所谓的“显式AND查询”，它的效果和上面的隐式查询是一样的，但是需要把“AND”关键字写出来，写为：\n",
    "\n",
    "```python\n",
    "handler.find({\n",
    "    '$and': [\n",
    "        {'age': {'$gt': 20}},\n",
    "        {'salary': {'$gt': 9999}}\n",
    "       ]\n",
    "   })\n",
    "```\n",
    "\n",
    "所以显示AND查询的基本语法为：\n",
    "\n",
    "```python\n",
    "# 这里的查询条件1、查询条件2、查询条件3均为字典\n",
    "handler.find({'$and': [查询条件1, 查询条件2, 查询条件3]})\n",
    "```\n",
    "\n",
    "\n",
    "### OR 查询\n",
    "\n",
    "OR查询只有显式的写法，表示多个条件只要其中一个满足即可。例如要查询：\n",
    "\n",
    "> 年龄大于20或者薪资大于9999\n",
    "\n",
    "那么查询语句可以写为：\n",
    "\n",
    "```python\n",
    "handler.find({'$or': [{'age': {'$gt': 20}}, {'salary': {'$gt': 9999}}]})\n",
    "```\n",
    "\n",
    "OR查询的基本语法为：\n",
    "\n",
    "```python\n",
    "\n",
    "# 这里的查询条件1、查询条件2、查询条件3均为字典\n",
    "handler.find({'$or': [查询条件1, 查询条件2, 查询条件3]})\n",
    "```"
   ]
  },
  {
   "cell_type": "markdown",
   "metadata": {},
   "source": [
    "## 如何生成练习数据？\n",
    "\n",
    "扫码关注微信公众号\n",
    "\n",
    "![](https://kingname-1257411235.cos.ap-chengdu.myqcloud.com/qrcode.jpg)\n",
    "\n",
    "回复：\n",
    "\n",
    "> 数据库\n",
    "\n",
    "获取本书源代码，使用Python运行`chapter_7`文件夹中的`import_example_data_1.py`文件，即可在本地MongoDB中生成对应的练习数据example_data_1."
   ]
  },
  {
   "cell_type": "code",
   "execution_count": 15,
   "metadata": {
    "collapsed": true
   },
   "outputs": [],
   "source": [
    "# 初始化数据库连接\n",
    "\n",
    "import pymongo\n",
    "\n",
    "handler = pymongo.MongoClient().chapter_7.example_data_1"
   ]
  },
  {
   "cell_type": "code",
   "execution_count": 16,
   "metadata": {},
   "outputs": [
    {
     "name": "stdout",
     "output_type": "stream",
     "text": [
      "{'id': 6, 'age': 27, 'salary': 6847, 'sex': '男'}\n",
      "{'id': 11, 'age': 27, 'salary': 5931, 'sex': '男'}\n",
      "{'id': 21, 'age': 26, 'salary': 1583, 'sex': '男'}\n",
      "{'id': 23, 'age': 29, 'salary': 5977, 'sex': '男'}\n",
      "{'id': 26, 'age': 28, 'salary': 2489, 'sex': '男'}\n",
      "{'id': 32, 'age': 27, 'salary': 1668, 'sex': '男'}\n",
      "{'id': 34, 'age': 27, 'salary': 2931, 'sex': '男'}\n",
      "{'id': 39, 'age': 29, 'salary': 6671, 'sex': '男'}\n",
      "{'id': 56, 'age': 30, 'salary': 2385, 'sex': '男'}\n",
      "{'id': 57, 'age': 26, 'salary': 4691, 'sex': '男'}\n",
      "{'id': 66, 'age': 27, 'salary': 1286, 'sex': '男'}\n",
      "{'id': 83, 'age': 28, 'salary': 1189, 'sex': '男'}\n",
      "{'id': 93, 'age': 27, 'salary': 7228, 'sex': '男'}\n",
      "{'id': 97, 'age': 26, 'salary': 7811, 'sex': '男'}\n",
      "{'id': 98, 'age': 26, 'salary': 4704, 'sex': '男'}\n"
     ]
    }
   ],
   "source": [
    "# 隐式AND查询所有age大于25并且salary小于8000并且sex为男的数据\n",
    "\n",
    "rows = handler.find({'age': {'$gt': 25}, 'salary': {'$lt': 8000}, 'sex': '男'}, {'_id': 0})\n",
    "for row in rows:\n",
    "    print(row)"
   ]
  },
  {
   "cell_type": "code",
   "execution_count": 17,
   "metadata": {},
   "outputs": [
    {
     "name": "stdout",
     "output_type": "stream",
     "text": [
      "{'id': 6, 'age': 27, 'salary': 6847, 'sex': '男'}\n",
      "{'id': 11, 'age': 27, 'salary': 5931, 'sex': '男'}\n",
      "{'id': 21, 'age': 26, 'salary': 1583, 'sex': '男'}\n",
      "{'id': 23, 'age': 29, 'salary': 5977, 'sex': '男'}\n",
      "{'id': 26, 'age': 28, 'salary': 2489, 'sex': '男'}\n",
      "{'id': 32, 'age': 27, 'salary': 1668, 'sex': '男'}\n",
      "{'id': 34, 'age': 27, 'salary': 2931, 'sex': '男'}\n",
      "{'id': 39, 'age': 29, 'salary': 6671, 'sex': '男'}\n",
      "{'id': 56, 'age': 30, 'salary': 2385, 'sex': '男'}\n",
      "{'id': 57, 'age': 26, 'salary': 4691, 'sex': '男'}\n",
      "{'id': 66, 'age': 27, 'salary': 1286, 'sex': '男'}\n",
      "{'id': 83, 'age': 28, 'salary': 1189, 'sex': '男'}\n",
      "{'id': 93, 'age': 27, 'salary': 7228, 'sex': '男'}\n",
      "{'id': 97, 'age': 26, 'salary': 7811, 'sex': '男'}\n",
      "{'id': 98, 'age': 26, 'salary': 4704, 'sex': '男'}\n"
     ]
    }
   ],
   "source": [
    "# 显式AND查询所有age大于25并且salary小于8000并且sex为男的数据\n",
    "\n",
    "\n",
    "rows = handler.find({\n",
    "    '$and': [\n",
    "        {'age': {'$gt': 25}},\n",
    "        {'salary': {'$lt': 8000}},\n",
    "        {'sex': '男'}]\n",
    "    },\n",
    "    {'_id': 0})\n",
    "for row in rows:\n",
    "    print(row)"
   ]
  },
  {
   "cell_type": "code",
   "execution_count": 18,
   "metadata": {},
   "outputs": [
    {
     "name": "stdout",
     "output_type": "stream",
     "text": [
      "{'id': 6, 'age': 27, 'salary': 6847, 'sex': '男'}\n",
      "{'id': 11, 'age': 27, 'salary': 5931, 'sex': '男'}\n",
      "{'id': 21, 'age': 26, 'salary': 1583, 'sex': '男'}\n",
      "{'id': 23, 'age': 29, 'salary': 5977, 'sex': '男'}\n",
      "{'id': 26, 'age': 28, 'salary': 2489, 'sex': '男'}\n",
      "{'id': 32, 'age': 27, 'salary': 1668, 'sex': '男'}\n",
      "{'id': 34, 'age': 27, 'salary': 2931, 'sex': '男'}\n",
      "{'id': 39, 'age': 29, 'salary': 6671, 'sex': '男'}\n",
      "{'id': 56, 'age': 30, 'salary': 2385, 'sex': '男'}\n",
      "{'id': 57, 'age': 26, 'salary': 4691, 'sex': '男'}\n",
      "{'id': 66, 'age': 27, 'salary': 1286, 'sex': '男'}\n",
      "{'id': 83, 'age': 28, 'salary': 1189, 'sex': '男'}\n",
      "{'id': 93, 'age': 27, 'salary': 7228, 'sex': '男'}\n",
      "{'id': 97, 'age': 26, 'salary': 7811, 'sex': '男'}\n",
      "{'id': 98, 'age': 26, 'salary': 4704, 'sex': '男'}\n"
     ]
    }
   ],
   "source": [
    "# 显式AND查询与隐式AND查询混用\n",
    "\n",
    "rows = handler.find({\n",
    "    '$and': [\n",
    "        {'age': {'$gt': 25}, 'salary': {'$lt': 8000}},\n",
    "        {'sex': '男'}]\n",
    "    },\n",
    "    {'_id': 0})\n",
    "for row in rows:\n",
    "    print(row)"
   ]
  },
  {
   "cell_type": "code",
   "execution_count": 19,
   "metadata": {},
   "outputs": [
    {
     "name": "stdout",
     "output_type": "stream",
     "text": [
      "{'id': 1, 'age': 29, 'salary': 2664, 'sex': '女'}\n",
      "{'id': 2, 'age': 19, 'salary': 3086, 'sex': '男'}\n",
      "{'id': 3, 'age': 15, 'salary': 7662, 'sex': '女'}\n",
      "{'id': 4, 'age': 23, 'salary': 7001, 'sex': '女'}\n",
      "{'id': 5, 'age': 24, 'salary': 8042, 'sex': '女'}\n",
      "{'id': 6, 'age': 27, 'salary': 6847, 'sex': '男'}\n",
      "{'id': 7, 'age': 16, 'salary': 8916, 'sex': '男'}\n",
      "{'id': 8, 'age': 24, 'salary': 5191, 'sex': '女'}\n",
      "{'id': 9, 'age': 23, 'salary': 6643, 'sex': '男'}\n",
      "{'id': 11, 'age': 27, 'salary': 5931, 'sex': '男'}\n",
      "{'id': 13, 'age': 25, 'salary': 3156, 'sex': '男'}\n",
      "{'id': 14, 'age': 29, 'salary': 8825, 'sex': '女'}\n",
      "{'id': 15, 'age': 29, 'salary': 7635, 'sex': '女'}\n",
      "{'id': 16, 'age': 18, 'salary': 4204, 'sex': '女'}\n",
      "{'id': 17, 'age': 20, 'salary': 5498, 'sex': '男'}\n",
      "{'id': 18, 'age': 17, 'salary': 4600, 'sex': '男'}\n",
      "{'id': 19, 'age': 26, 'salary': 3116, 'sex': '女'}\n",
      "{'id': 20, 'age': 23, 'salary': 6317, 'sex': '男'}\n",
      "{'id': 21, 'age': 26, 'salary': 1583, 'sex': '男'}\n",
      "{'id': 22, 'age': 15, 'salary': 1930, 'sex': '女'}\n",
      "{'id': 23, 'age': 29, 'salary': 5977, 'sex': '男'}\n",
      "{'id': 24, 'age': 27, 'salary': 8833, 'sex': '女'}\n",
      "{'id': 25, 'age': 15, 'salary': 2749, 'sex': '男'}\n",
      "{'id': 26, 'age': 28, 'salary': 2489, 'sex': '男'}\n",
      "{'id': 27, 'age': 21, 'salary': 3236, 'sex': '男'}\n",
      "{'id': 28, 'age': 27, 'salary': 7052, 'sex': '女'}\n",
      "{'id': 29, 'age': 26, 'salary': 7494, 'sex': '女'}\n",
      "{'id': 30, 'age': 24, 'salary': 1820, 'sex': '女'}\n",
      "{'id': 32, 'age': 27, 'salary': 1668, 'sex': '男'}\n",
      "{'id': 33, 'age': 28, 'salary': 9276, 'sex': '男'}\n",
      "{'id': 34, 'age': 27, 'salary': 2931, 'sex': '男'}\n",
      "{'id': 35, 'age': 16, 'salary': 2443, 'sex': '男'}\n",
      "{'id': 36, 'age': 15, 'salary': 2073, 'sex': '女'}\n",
      "{'id': 37, 'age': 27, 'salary': 9361, 'sex': '男'}\n",
      "{'id': 38, 'age': 20, 'salary': 6039, 'sex': '女'}\n",
      "{'id': 39, 'age': 29, 'salary': 6671, 'sex': '男'}\n",
      "{'id': 40, 'age': 29, 'salary': 2314, 'sex': '女'}\n",
      "{'id': 41, 'age': 19, 'salary': 3829, 'sex': '男'}\n",
      "{'id': 42, 'age': 21, 'salary': 2989, 'sex': '女'}\n",
      "{'id': 43, 'age': 18, 'salary': 3813, 'sex': '男'}\n",
      "{'id': 44, 'age': 22, 'salary': 6060, 'sex': '女'}\n",
      "{'id': 45, 'age': 25, 'salary': 5602, 'sex': '女'}\n",
      "{'id': 46, 'age': 18, 'salary': 7582, 'sex': '女'}\n",
      "{'id': 47, 'age': 27, 'salary': 8937, 'sex': '女'}\n",
      "{'id': 48, 'age': 21, 'salary': 4565, 'sex': '男'}\n",
      "{'id': 49, 'age': 26, 'salary': 6087, 'sex': '女'}\n",
      "{'id': 50, 'age': 23, 'salary': 4103, 'sex': '男'}\n",
      "{'id': 51, 'age': 19, 'salary': 2733, 'sex': '男'}\n",
      "{'id': 52, 'age': 29, 'salary': 9868, 'sex': '男'}\n",
      "{'id': 53, 'age': 24, 'salary': 8977, 'sex': '女'}\n",
      "{'id': 54, 'age': 25, 'salary': 6052, 'sex': '女'}\n",
      "{'id': 55, 'age': 23, 'salary': 3741, 'sex': '男'}\n",
      "{'id': 56, 'age': 30, 'salary': 2385, 'sex': '男'}\n",
      "{'id': 57, 'age': 26, 'salary': 4691, 'sex': '男'}\n",
      "{'id': 60, 'age': 18, 'salary': 1640, 'sex': '男'}\n",
      "{'id': 61, 'age': 28, 'salary': 7494, 'sex': '女'}\n",
      "{'id': 63, 'age': 19, 'salary': 8830, 'sex': '男'}\n",
      "{'id': 64, 'age': 28, 'salary': 8512, 'sex': '男'}\n",
      "{'id': 65, 'age': 20, 'salary': 4850, 'sex': '男'}\n",
      "{'id': 66, 'age': 27, 'salary': 1286, 'sex': '男'}\n",
      "{'id': 67, 'age': 30, 'salary': 6928, 'sex': '女'}\n",
      "{'id': 68, 'age': 29, 'salary': 3417, 'sex': '女'}\n",
      "{'id': 69, 'age': 25, 'salary': 3115, 'sex': '女'}\n",
      "{'id': 70, 'age': 23, 'salary': 2839, 'sex': '女'}\n",
      "{'id': 71, 'age': 19, 'salary': 1746, 'sex': '男'}\n",
      "{'id': 72, 'age': 18, 'salary': 1044, 'sex': '男'}\n",
      "{'id': 73, 'age': 23, 'salary': 5760, 'sex': '男'}\n",
      "{'id': 74, 'age': 23, 'salary': 3312, 'sex': '男'}\n",
      "{'id': 75, 'age': 21, 'salary': 2409, 'sex': '男'}\n",
      "{'id': 77, 'age': 16, 'salary': 2472, 'sex': '男'}\n",
      "{'id': 78, 'age': 19, 'salary': 4087, 'sex': '男'}\n",
      "{'id': 79, 'age': 29, 'salary': 3981, 'sex': '女'}\n",
      "{'id': 80, 'age': 21, 'salary': 8750, 'sex': '女'}\n",
      "{'id': 81, 'age': 19, 'salary': 2954, 'sex': '女'}\n",
      "{'id': 83, 'age': 28, 'salary': 1189, 'sex': '男'}\n",
      "{'id': 84, 'age': 20, 'salary': 2928, 'sex': '男'}\n",
      "{'id': 85, 'age': 25, 'salary': 8798, 'sex': '女'}\n",
      "{'id': 86, 'age': 19, 'salary': 4391, 'sex': '女'}\n",
      "{'id': 87, 'age': 30, 'salary': 7823, 'sex': '女'}\n",
      "{'id': 88, 'age': 22, 'salary': 2145, 'sex': '男'}\n",
      "{'id': 89, 'age': 15, 'salary': 2573, 'sex': '男'}\n",
      "{'id': 90, 'age': 20, 'salary': 3853, 'sex': '男'}\n",
      "{'id': 91, 'age': 25, 'salary': 6161, 'sex': '女'}\n",
      "{'id': 92, 'age': 15, 'salary': 7678, 'sex': '男'}\n",
      "{'id': 93, 'age': 27, 'salary': 7228, 'sex': '男'}\n",
      "{'id': 94, 'age': 26, 'salary': 1084, 'sex': '女'}\n",
      "{'id': 95, 'age': 25, 'salary': 8078, 'sex': '男'}\n",
      "{'id': 96, 'age': 17, 'salary': 2318, 'sex': '女'}\n",
      "{'id': 97, 'age': 26, 'salary': 7811, 'sex': '男'}\n",
      "{'id': 98, 'age': 26, 'salary': 4704, 'sex': '男'}\n",
      "{'id': 99, 'age': 17, 'salary': 6482, 'sex': '女'}\n"
     ]
    }
   ],
   "source": [
    "# OR查询，查询所有年龄大于25或者薪资小于9000的人\n",
    "\n",
    "rows = handler.find({\n",
    "    '$or': [\n",
    "        {'age': {'$gt': 25}},\n",
    "        {'salary': {'$lt': 9000}}\n",
    "        ]\n",
    "    },\n",
    "    {'_id': 0})\n",
    "for row in rows:\n",
    "    print(row)"
   ]
  },
  {
   "cell_type": "code",
   "execution_count": 20,
   "metadata": {},
   "outputs": [
    {
     "name": "stdout",
     "output_type": "stream",
     "text": [
      "{'id': 21, 'age': 26, 'salary': 1583, 'sex': '男'}\n",
      "{'id': 22, 'age': 15, 'salary': 1930, 'sex': '女'}\n",
      "{'id': 30, 'age': 24, 'salary': 1820, 'sex': '女'}\n",
      "{'id': 32, 'age': 27, 'salary': 1668, 'sex': '男'}\n",
      "{'id': 60, 'age': 18, 'salary': 1640, 'sex': '男'}\n",
      "{'id': 66, 'age': 27, 'salary': 1286, 'sex': '男'}\n",
      "{'id': 71, 'age': 19, 'salary': 1746, 'sex': '男'}\n",
      "{'id': 72, 'age': 18, 'salary': 1044, 'sex': '男'}\n",
      "{'id': 83, 'age': 28, 'salary': 1189, 'sex': '男'}\n",
      "{'id': 94, 'age': 26, 'salary': 1084, 'sex': '女'}\n"
     ]
    }
   ],
   "source": [
    "# OR查询，查询所有年龄大于1000岁或者薪资小于2000的人，第一个条件找不到也没有关系\n",
    "\n",
    "rows = handler.find({\n",
    "    '$or': [\n",
    "        {'age': {'$gt': 1000}},\n",
    "        {'salary': {'$lt': 2000}}\n",
    "        ]\n",
    "    }, \n",
    "    {'_id': 0})\n",
    "for row in rows:\n",
    "    print(row)"
   ]
  },
  {
   "cell_type": "code",
   "execution_count": 21,
   "metadata": {
    "collapsed": true
   },
   "outputs": [],
   "source": [
    "# OR查询，查询所有年龄大于1000岁或者薪资小于0的人，所有条件都找不到才会返回空\n",
    "\n",
    "rows = handler.find({\n",
    "    '$or': [\n",
    "        {'age': {'$gt': 1000}},\n",
    "        {'salary': {'$lt': 0}}\n",
    "        ]\n",
    "    }, \n",
    "    {'_id': 0})\n",
    "for row in rows:\n",
    "    print(row)\n"
   ]
  },
  {
   "cell_type": "markdown",
   "metadata": {},
   "source": [
    "# 不能写成隐式AND查询的情况\n"
   ]
  },
  {
   "cell_type": "code",
   "execution_count": 22,
   "metadata": {},
   "outputs": [
    {
     "name": "stdout",
     "output_type": "stream",
     "text": [
      "{'id': 1, 'age': 29, 'salary': 2664, 'sex': '女'}\n",
      "{'id': 14, 'age': 29, 'salary': 8825, 'sex': '女'}\n",
      "{'id': 15, 'age': 29, 'salary': 7635, 'sex': '女'}\n",
      "{'id': 23, 'age': 29, 'salary': 5977, 'sex': '男'}\n",
      "{'id': 39, 'age': 29, 'salary': 6671, 'sex': '男'}\n",
      "{'id': 40, 'age': 29, 'salary': 2314, 'sex': '女'}\n",
      "{'id': 52, 'age': 29, 'salary': 9868, 'sex': '男'}\n",
      "{'id': 56, 'age': 30, 'salary': 2385, 'sex': '男'}\n",
      "{'id': 58, 'age': 25, 'salary': 9975, 'sex': '男'}\n",
      "{'id': 67, 'age': 30, 'salary': 6928, 'sex': '女'}\n",
      "{'id': 68, 'age': 29, 'salary': 3417, 'sex': '女'}\n",
      "{'id': 79, 'age': 29, 'salary': 3981, 'sex': '女'}\n",
      "{'id': 87, 'age': 30, 'salary': 7823, 'sex': '女'}\n"
     ]
    }
   ],
   "source": [
    "# 首先我们搜索一下，年龄大于28岁，薪资大于9900的所有人\n",
    "\n",
    "rows = handler.find({\n",
    "    '$or': [\n",
    "        {'age': {'$gt': 28}},\n",
    "        {'salary': {'$gt': 9900}}\n",
    "        ]\n",
    "    }, \n",
    "    {'_id': 0})\n",
    "for row in rows:\n",
    "    print(row)"
   ]
  },
  {
   "cell_type": "code",
   "execution_count": 23,
   "metadata": {},
   "outputs": [
    {
     "name": "stdout",
     "output_type": "stream",
     "text": [
      "{'id': 1, 'age': 29, 'salary': 2664, 'sex': '女'}\n",
      "{'id': 14, 'age': 29, 'salary': 8825, 'sex': '女'}\n",
      "{'id': 15, 'age': 29, 'salary': 7635, 'sex': '女'}\n",
      "{'id': 23, 'age': 29, 'salary': 5977, 'sex': '男'}\n",
      "{'id': 39, 'age': 29, 'salary': 6671, 'sex': '男'}\n",
      "{'id': 52, 'age': 29, 'salary': 9868, 'sex': '男'}\n",
      "{'id': 56, 'age': 30, 'salary': 2385, 'sex': '男'}\n",
      "{'id': 58, 'age': 25, 'salary': 9975, 'sex': '男'}\n"
     ]
    }
   ],
   "source": [
    "# 现在，要从这一批人里面找到所有id小于20或者性别为男的人\n",
    "\n",
    "rows = handler.find(\n",
    "    {'$and': [\n",
    "        {'$or': [\n",
    "            {'age': {'$gt': 28}},\n",
    "            {'salary': {'$gt': 9900}}\n",
    "            ]\n",
    "        },\n",
    "        {'$or': [\n",
    "            {'id': {'$lt': 20}},\n",
    "            {'sex': '男'}\n",
    "            ]\n",
    "        }\n",
    "        ]\n",
    "    },\n",
    "    {'_id': 0})\n",
    "for row in rows:\n",
    "    print(row)"
   ]
  },
  {
   "cell_type": "code",
   "execution_count": null,
   "metadata": {
    "collapsed": true
   },
   "outputs": [],
   "source": []
  },
  {
   "cell_type": "markdown",
   "metadata": {},
   "source": [
    "![读者交流QQ群](https://kingname-1257411235.cos.ap-chengdu.myqcloud.com/2019-02-16-09-59-56.png)\n",
    "![微信公众号](https://kingname-1257411235.cos.ap-chengdu.myqcloud.com/wechatplatform.jpg)\n",
    "![](https://kingname-1257411235.cos.ap-chengdu.myqcloud.com/2019-03-03-20-47-47.png)"
   ]
  },
  {
   "cell_type": "code",
   "execution_count": null,
   "metadata": {
    "collapsed": true
   },
   "outputs": [],
   "source": []
  }
 ],
 "metadata": {
  "kernelspec": {
   "display_name": "Python 3",
   "language": "python",
   "name": "python3"
  },
  "language_info": {
   "codemirror_mode": {
    "name": "ipython",
    "version": 3
   },
   "file_extension": ".py",
   "mimetype": "text/x-python",
   "name": "python",
   "nbconvert_exporter": "python",
   "pygments_lexer": "ipython3",
   "version": "3.6.8"
  }
 },
 "nbformat": 4,
 "nbformat_minor": 2
}
